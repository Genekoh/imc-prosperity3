{
 "cells": [
  {
   "cell_type": "code",
   "execution_count": 1,
   "id": "3c1207b2",
   "metadata": {},
   "outputs": [],
   "source": [
    "import numpy as np\n",
    "import pandas as pd\n",
    "import matplotlib.pyplot as plt\n",
    "import seaborn as sns\n",
    "\n"
   ]
  },
  {
   "cell_type": "code",
   "execution_count": 6,
   "id": "8dbd10b3",
   "metadata": {},
   "outputs": [],
   "source": [
    "df1 = pd.read_csv('data/prices_round_1_day_-2.csv', sep=';')\n",
    "df2 = pd.read_csv('data/prices_round_1_day_-1.csv', sep=';')\n",
    "df3 = pd.read_csv('data/prices_round_1_day_0.csv', sep=';')"
   ]
  },
  {
   "cell_type": "code",
   "execution_count": 7,
   "id": "fcda813b",
   "metadata": {},
   "outputs": [
    {
     "data": {
      "text/html": [
       "<div>\n",
       "<style scoped>\n",
       "    .dataframe tbody tr th:only-of-type {\n",
       "        vertical-align: middle;\n",
       "    }\n",
       "\n",
       "    .dataframe tbody tr th {\n",
       "        vertical-align: top;\n",
       "    }\n",
       "\n",
       "    .dataframe thead th {\n",
       "        text-align: right;\n",
       "    }\n",
       "</style>\n",
       "<table border=\"1\" class=\"dataframe\">\n",
       "  <thead>\n",
       "    <tr style=\"text-align: right;\">\n",
       "      <th></th>\n",
       "      <th>day</th>\n",
       "      <th>timestamp</th>\n",
       "      <th>product</th>\n",
       "      <th>bid_price_1</th>\n",
       "      <th>bid_volume_1</th>\n",
       "      <th>bid_price_2</th>\n",
       "      <th>bid_volume_2</th>\n",
       "      <th>bid_price_3</th>\n",
       "      <th>bid_volume_3</th>\n",
       "      <th>ask_price_1</th>\n",
       "      <th>ask_volume_1</th>\n",
       "      <th>ask_price_2</th>\n",
       "      <th>ask_volume_2</th>\n",
       "      <th>ask_price_3</th>\n",
       "      <th>ask_volume_3</th>\n",
       "      <th>mid_price</th>\n",
       "      <th>profit_and_loss</th>\n",
       "    </tr>\n",
       "  </thead>\n",
       "  <tbody>\n",
       "    <tr>\n",
       "      <th>0</th>\n",
       "      <td>-2</td>\n",
       "      <td>0</td>\n",
       "      <td>RAINFOREST_RESIN</td>\n",
       "      <td>9996</td>\n",
       "      <td>1</td>\n",
       "      <td>9995.0</td>\n",
       "      <td>25.0</td>\n",
       "      <td>NaN</td>\n",
       "      <td>NaN</td>\n",
       "      <td>10004</td>\n",
       "      <td>1</td>\n",
       "      <td>10005.0</td>\n",
       "      <td>25.0</td>\n",
       "      <td>NaN</td>\n",
       "      <td>NaN</td>\n",
       "      <td>10000.0</td>\n",
       "      <td>0.0</td>\n",
       "    </tr>\n",
       "    <tr>\n",
       "      <th>1</th>\n",
       "      <td>-2</td>\n",
       "      <td>0</td>\n",
       "      <td>KELP</td>\n",
       "      <td>1998</td>\n",
       "      <td>26</td>\n",
       "      <td>NaN</td>\n",
       "      <td>NaN</td>\n",
       "      <td>NaN</td>\n",
       "      <td>NaN</td>\n",
       "      <td>2002</td>\n",
       "      <td>26</td>\n",
       "      <td>NaN</td>\n",
       "      <td>NaN</td>\n",
       "      <td>NaN</td>\n",
       "      <td>NaN</td>\n",
       "      <td>2000.0</td>\n",
       "      <td>0.0</td>\n",
       "    </tr>\n",
       "    <tr>\n",
       "      <th>2</th>\n",
       "      <td>-2</td>\n",
       "      <td>0</td>\n",
       "      <td>SQUID_INK</td>\n",
       "      <td>1998</td>\n",
       "      <td>26</td>\n",
       "      <td>NaN</td>\n",
       "      <td>NaN</td>\n",
       "      <td>NaN</td>\n",
       "      <td>NaN</td>\n",
       "      <td>2002</td>\n",
       "      <td>26</td>\n",
       "      <td>NaN</td>\n",
       "      <td>NaN</td>\n",
       "      <td>NaN</td>\n",
       "      <td>NaN</td>\n",
       "      <td>2000.0</td>\n",
       "      <td>0.0</td>\n",
       "    </tr>\n",
       "    <tr>\n",
       "      <th>3</th>\n",
       "      <td>-2</td>\n",
       "      <td>100</td>\n",
       "      <td>SQUID_INK</td>\n",
       "      <td>1999</td>\n",
       "      <td>5</td>\n",
       "      <td>1998.0</td>\n",
       "      <td>26.0</td>\n",
       "      <td>NaN</td>\n",
       "      <td>NaN</td>\n",
       "      <td>2001</td>\n",
       "      <td>20</td>\n",
       "      <td>NaN</td>\n",
       "      <td>NaN</td>\n",
       "      <td>NaN</td>\n",
       "      <td>NaN</td>\n",
       "      <td>2000.0</td>\n",
       "      <td>0.0</td>\n",
       "    </tr>\n",
       "    <tr>\n",
       "      <th>4</th>\n",
       "      <td>-2</td>\n",
       "      <td>100</td>\n",
       "      <td>RAINFOREST_RESIN</td>\n",
       "      <td>10000</td>\n",
       "      <td>5</td>\n",
       "      <td>9995.0</td>\n",
       "      <td>20.0</td>\n",
       "      <td>NaN</td>\n",
       "      <td>NaN</td>\n",
       "      <td>10005</td>\n",
       "      <td>20</td>\n",
       "      <td>NaN</td>\n",
       "      <td>NaN</td>\n",
       "      <td>NaN</td>\n",
       "      <td>NaN</td>\n",
       "      <td>10002.5</td>\n",
       "      <td>0.0</td>\n",
       "    </tr>\n",
       "  </tbody>\n",
       "</table>\n",
       "</div>"
      ],
      "text/plain": [
       "   day  timestamp           product  bid_price_1  bid_volume_1  bid_price_2  \\\n",
       "0   -2          0  RAINFOREST_RESIN         9996             1       9995.0   \n",
       "1   -2          0              KELP         1998            26          NaN   \n",
       "2   -2          0         SQUID_INK         1998            26          NaN   \n",
       "3   -2        100         SQUID_INK         1999             5       1998.0   \n",
       "4   -2        100  RAINFOREST_RESIN        10000             5       9995.0   \n",
       "\n",
       "   bid_volume_2  bid_price_3  bid_volume_3  ask_price_1  ask_volume_1  \\\n",
       "0          25.0          NaN           NaN        10004             1   \n",
       "1           NaN          NaN           NaN         2002            26   \n",
       "2           NaN          NaN           NaN         2002            26   \n",
       "3          26.0          NaN           NaN         2001            20   \n",
       "4          20.0          NaN           NaN        10005            20   \n",
       "\n",
       "   ask_price_2  ask_volume_2  ask_price_3  ask_volume_3  mid_price  \\\n",
       "0      10005.0          25.0          NaN           NaN    10000.0   \n",
       "1          NaN           NaN          NaN           NaN     2000.0   \n",
       "2          NaN           NaN          NaN           NaN     2000.0   \n",
       "3          NaN           NaN          NaN           NaN     2000.0   \n",
       "4          NaN           NaN          NaN           NaN    10002.5   \n",
       "\n",
       "   profit_and_loss  \n",
       "0              0.0  \n",
       "1              0.0  \n",
       "2              0.0  \n",
       "3              0.0  \n",
       "4              0.0  "
      ]
     },
     "execution_count": 7,
     "metadata": {},
     "output_type": "execute_result"
    }
   ],
   "source": [
    "df1.head()"
   ]
  },
  {
   "cell_type": "code",
   "execution_count": 16,
   "id": "5d8819ca",
   "metadata": {},
   "outputs": [
    {
     "data": {
      "text/plain": [
       "PearsonRResult(statistic=0.281493726751658, pvalue=1.6714671204930065e-181)"
      ]
     },
     "execution_count": 16,
     "metadata": {},
     "output_type": "execute_result"
    }
   ],
   "source": [
    "from scipy.stats import pearsonr\n",
    "\n",
    "kelp1 = df1[df1['product'] == 'KELP']\n",
    "resin1 = df1[df1['product'] == 'RAINFOREST_RESIN']\n",
    "squidink1 = df1[df1['product'] == 'SQUID_INK']\n",
    "\n",
    "pearsonr(kelp1['mid_price'], squidink1['mid_price'])"
   ]
  },
  {
   "cell_type": "code",
   "execution_count": 17,
   "id": "a8dbd138",
   "metadata": {},
   "outputs": [
    {
     "data": {
      "text/plain": [
       "PearsonRResult(statistic=0.15087897074179518, pvalue=5.342644458959605e-52)"
      ]
     },
     "execution_count": 17,
     "metadata": {},
     "output_type": "execute_result"
    }
   ],
   "source": [
    "kelp2 = df2[df2['product'] == 'KELP']\n",
    "resin2 = df2[df2['product'] == 'RAINFOREST_RESIN']\n",
    "squidink2 = df2[df2['product'] == 'SQUID_INK']\n",
    "\n",
    "pearsonr(kelp2['mid_price'], squidink2['mid_price'])"
   ]
  },
  {
   "cell_type": "code",
   "execution_count": 18,
   "id": "7f3bc032",
   "metadata": {},
   "outputs": [
    {
     "data": {
      "text/plain": [
       "PearsonRResult(statistic=0.15087897074179518, pvalue=5.342644458959605e-52)"
      ]
     },
     "execution_count": 18,
     "metadata": {},
     "output_type": "execute_result"
    }
   ],
   "source": [
    "kelp3 = df3[df3['product'] == 'KELP']\n",
    "resin3 = df3[df3['product'] == 'RAINFOREST_RESIN']\n",
    "squidink3 = df3[df3['product'] == 'SQUID_INK']\n",
    "\n",
    "pearsonr(kelp2['mid_price'], squidink2['mid_price'])"
   ]
  },
  {
   "cell_type": "code",
   "execution_count": 27,
   "id": "615cf186",
   "metadata": {},
   "outputs": [
    {
     "ename": "ValueError",
     "evalue": "array must not contain infs or NaNs",
     "output_type": "error",
     "traceback": [
      "\u001b[31m---------------------------------------------------------------------------\u001b[39m",
      "\u001b[31mValueError\u001b[39m                                Traceback (most recent call last)",
      "\u001b[36mCell\u001b[39m\u001b[36m \u001b[39m\u001b[32mIn[27]\u001b[39m\u001b[32m, line 4\u001b[39m\n\u001b[32m      1\u001b[39m kelp1_pct = kelp1[\u001b[33m'\u001b[39m\u001b[33mmid_price\u001b[39m\u001b[33m'\u001b[39m].pct_change(\u001b[32m100\u001b[39m)[\u001b[32m1\u001b[39m:]\n\u001b[32m      2\u001b[39m squidink1_pct = squidink1[\u001b[33m'\u001b[39m\u001b[33mmid_price\u001b[39m\u001b[33m'\u001b[39m].pct_change(\u001b[32m100\u001b[39m)[\u001b[32m1\u001b[39m:]\n\u001b[32m----> \u001b[39m\u001b[32m4\u001b[39m pearsonr(kelp1_pct, squidink1_pct)\n",
      "\u001b[36mFile \u001b[39m\u001b[32m~/anaconda3/lib/python3.11/site-packages/scipy/stats/_stats_py.py:4837\u001b[39m, in \u001b[36mpearsonr\u001b[39m\u001b[34m(x, y, alternative, method)\u001b[39m\n\u001b[32m   4832\u001b[39m ym = y.astype(dtype) - ymean\n\u001b[32m   4834\u001b[39m \u001b[38;5;66;03m# Unlike np.linalg.norm or the expression sqrt((xm*xm).sum()),\u001b[39;00m\n\u001b[32m   4835\u001b[39m \u001b[38;5;66;03m# scipy.linalg.norm(xm) does not overflow if xm is, for example,\u001b[39;00m\n\u001b[32m   4836\u001b[39m \u001b[38;5;66;03m# [-5e210, 5e210, 3e200, -3e200]\u001b[39;00m\n\u001b[32m-> \u001b[39m\u001b[32m4837\u001b[39m normxm = linalg.norm(xm)\n\u001b[32m   4838\u001b[39m normym = linalg.norm(ym)\n\u001b[32m   4840\u001b[39m threshold = \u001b[32m1e-13\u001b[39m\n",
      "\u001b[36mFile \u001b[39m\u001b[32m~/anaconda3/lib/python3.11/site-packages/scipy/linalg/_misc.py:146\u001b[39m, in \u001b[36mnorm\u001b[39m\u001b[34m(a, ord, axis, keepdims, check_finite)\u001b[39m\n\u001b[32m    144\u001b[39m \u001b[38;5;66;03m# Differs from numpy only in non-finite handling and the use of blas.\u001b[39;00m\n\u001b[32m    145\u001b[39m \u001b[38;5;28;01mif\u001b[39;00m check_finite:\n\u001b[32m--> \u001b[39m\u001b[32m146\u001b[39m     a = np.asarray_chkfinite(a)\n\u001b[32m    147\u001b[39m \u001b[38;5;28;01melse\u001b[39;00m:\n\u001b[32m    148\u001b[39m     a = np.asarray(a)\n",
      "\u001b[36mFile \u001b[39m\u001b[32m~/anaconda3/lib/python3.11/site-packages/numpy/lib/function_base.py:628\u001b[39m, in \u001b[36masarray_chkfinite\u001b[39m\u001b[34m(a, dtype, order)\u001b[39m\n\u001b[32m    626\u001b[39m a = asarray(a, dtype=dtype, order=order)\n\u001b[32m    627\u001b[39m \u001b[38;5;28;01mif\u001b[39;00m a.dtype.char \u001b[38;5;129;01min\u001b[39;00m typecodes[\u001b[33m'\u001b[39m\u001b[33mAllFloat\u001b[39m\u001b[33m'\u001b[39m] \u001b[38;5;129;01mand\u001b[39;00m \u001b[38;5;129;01mnot\u001b[39;00m np.isfinite(a).all():\n\u001b[32m--> \u001b[39m\u001b[32m628\u001b[39m     \u001b[38;5;28;01mraise\u001b[39;00m \u001b[38;5;167;01mValueError\u001b[39;00m(\n\u001b[32m    629\u001b[39m         \u001b[33m\"\u001b[39m\u001b[33marray must not contain infs or NaNs\u001b[39m\u001b[33m\"\u001b[39m)\n\u001b[32m    630\u001b[39m \u001b[38;5;28;01mreturn\u001b[39;00m a\n",
      "\u001b[31mValueError\u001b[39m: array must not contain infs or NaNs"
     ]
    }
   ],
   "source": [
    "kelp1_pct = kelp1['mid_price'].pct_change(100)[99:]\n",
    "squidink1_pct = squidink1['mid_price'].pct_change(100)\n",
    "\n",
    "pearsonr(kelp1_pct, squidink1_pct)"
   ]
  },
  {
   "cell_type": "code",
   "execution_count": 26,
   "id": "21e4d6ff",
   "metadata": {},
   "outputs": [
    {
     "data": {
      "text/plain": [
       "5        0.000500\n",
       "6       -0.000250\n",
       "10       0.000000\n",
       "13       0.000000\n",
       "17       0.000500\n",
       "           ...   \n",
       "29987    0.000000\n",
       "29989    0.000000\n",
       "29991   -0.000246\n",
       "29996   -0.000493\n",
       "29998    0.000493\n",
       "Name: mid_price, Length: 9999, dtype: float64"
      ]
     },
     "execution_count": 26,
     "metadata": {},
     "output_type": "execute_result"
    }
   ],
   "source": [
    "kelp1_pct"
   ]
  },
  {
   "cell_type": "code",
   "execution_count": null,
   "id": "c4f57b0e",
   "metadata": {},
   "outputs": [],
   "source": []
  }
 ],
 "metadata": {
  "kernelspec": {
   "display_name": "Python 3 (ipykernel)",
   "language": "python",
   "name": "python3"
  },
  "language_info": {
   "codemirror_mode": {
    "name": "ipython",
    "version": 3
   },
   "file_extension": ".py",
   "mimetype": "text/x-python",
   "name": "python",
   "nbconvert_exporter": "python",
   "pygments_lexer": "ipython3",
   "version": "3.11.4"
  }
 },
 "nbformat": 4,
 "nbformat_minor": 5
}
