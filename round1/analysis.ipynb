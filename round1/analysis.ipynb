{
 "cells": [
  {
   "cell_type": "code",
   "execution_count": 1,
   "id": "3c1207b2",
   "metadata": {},
   "outputs": [],
   "source": [
    "import numpy as np\n",
    "import pandas as pd\n",
    "import matplotlib.pyplot as plt\n",
    "import seaborn as sns\n",
    "\n"
   ]
  },
  {
   "cell_type": "code",
   "execution_count": 2,
   "id": "8dbd10b3",
   "metadata": {},
   "outputs": [],
   "source": [
    "df1 = pd.read_csv('data/prices_round_1_day_-2.csv', sep=';')\n",
    "df2 = pd.read_csv('data/prices_round_1_day_-1.csv', sep=';')\n",
    "df3 = pd.read_csv('data/prices_round_1_day_0.csv', sep=';')"
   ]
  },
  {
   "cell_type": "code",
   "execution_count": 3,
   "id": "fcda813b",
   "metadata": {},
   "outputs": [
    {
     "data": {
      "text/html": [
       "<div>\n",
       "<style scoped>\n",
       "    .dataframe tbody tr th:only-of-type {\n",
       "        vertical-align: middle;\n",
       "    }\n",
       "\n",
       "    .dataframe tbody tr th {\n",
       "        vertical-align: top;\n",
       "    }\n",
       "\n",
       "    .dataframe thead th {\n",
       "        text-align: right;\n",
       "    }\n",
       "</style>\n",
       "<table border=\"1\" class=\"dataframe\">\n",
       "  <thead>\n",
       "    <tr style=\"text-align: right;\">\n",
       "      <th></th>\n",
       "      <th>day</th>\n",
       "      <th>timestamp</th>\n",
       "      <th>product</th>\n",
       "      <th>bid_price_1</th>\n",
       "      <th>bid_volume_1</th>\n",
       "      <th>bid_price_2</th>\n",
       "      <th>bid_volume_2</th>\n",
       "      <th>bid_price_3</th>\n",
       "      <th>bid_volume_3</th>\n",
       "      <th>ask_price_1</th>\n",
       "      <th>ask_volume_1</th>\n",
       "      <th>ask_price_2</th>\n",
       "      <th>ask_volume_2</th>\n",
       "      <th>ask_price_3</th>\n",
       "      <th>ask_volume_3</th>\n",
       "      <th>mid_price</th>\n",
       "      <th>profit_and_loss</th>\n",
       "    </tr>\n",
       "  </thead>\n",
       "  <tbody>\n",
       "    <tr>\n",
       "      <th>0</th>\n",
       "      <td>-2</td>\n",
       "      <td>0</td>\n",
       "      <td>RAINFOREST_RESIN</td>\n",
       "      <td>9996</td>\n",
       "      <td>1</td>\n",
       "      <td>9995.0</td>\n",
       "      <td>25.0</td>\n",
       "      <td>NaN</td>\n",
       "      <td>NaN</td>\n",
       "      <td>10004</td>\n",
       "      <td>1</td>\n",
       "      <td>10005.0</td>\n",
       "      <td>25.0</td>\n",
       "      <td>NaN</td>\n",
       "      <td>NaN</td>\n",
       "      <td>10000.0</td>\n",
       "      <td>0.0</td>\n",
       "    </tr>\n",
       "    <tr>\n",
       "      <th>1</th>\n",
       "      <td>-2</td>\n",
       "      <td>0</td>\n",
       "      <td>KELP</td>\n",
       "      <td>1998</td>\n",
       "      <td>26</td>\n",
       "      <td>NaN</td>\n",
       "      <td>NaN</td>\n",
       "      <td>NaN</td>\n",
       "      <td>NaN</td>\n",
       "      <td>2002</td>\n",
       "      <td>26</td>\n",
       "      <td>NaN</td>\n",
       "      <td>NaN</td>\n",
       "      <td>NaN</td>\n",
       "      <td>NaN</td>\n",
       "      <td>2000.0</td>\n",
       "      <td>0.0</td>\n",
       "    </tr>\n",
       "    <tr>\n",
       "      <th>2</th>\n",
       "      <td>-2</td>\n",
       "      <td>0</td>\n",
       "      <td>SQUID_INK</td>\n",
       "      <td>1998</td>\n",
       "      <td>26</td>\n",
       "      <td>NaN</td>\n",
       "      <td>NaN</td>\n",
       "      <td>NaN</td>\n",
       "      <td>NaN</td>\n",
       "      <td>2002</td>\n",
       "      <td>26</td>\n",
       "      <td>NaN</td>\n",
       "      <td>NaN</td>\n",
       "      <td>NaN</td>\n",
       "      <td>NaN</td>\n",
       "      <td>2000.0</td>\n",
       "      <td>0.0</td>\n",
       "    </tr>\n",
       "    <tr>\n",
       "      <th>3</th>\n",
       "      <td>-2</td>\n",
       "      <td>100</td>\n",
       "      <td>SQUID_INK</td>\n",
       "      <td>1999</td>\n",
       "      <td>5</td>\n",
       "      <td>1998.0</td>\n",
       "      <td>26.0</td>\n",
       "      <td>NaN</td>\n",
       "      <td>NaN</td>\n",
       "      <td>2001</td>\n",
       "      <td>20</td>\n",
       "      <td>NaN</td>\n",
       "      <td>NaN</td>\n",
       "      <td>NaN</td>\n",
       "      <td>NaN</td>\n",
       "      <td>2000.0</td>\n",
       "      <td>0.0</td>\n",
       "    </tr>\n",
       "    <tr>\n",
       "      <th>4</th>\n",
       "      <td>-2</td>\n",
       "      <td>100</td>\n",
       "      <td>RAINFOREST_RESIN</td>\n",
       "      <td>10000</td>\n",
       "      <td>5</td>\n",
       "      <td>9995.0</td>\n",
       "      <td>20.0</td>\n",
       "      <td>NaN</td>\n",
       "      <td>NaN</td>\n",
       "      <td>10005</td>\n",
       "      <td>20</td>\n",
       "      <td>NaN</td>\n",
       "      <td>NaN</td>\n",
       "      <td>NaN</td>\n",
       "      <td>NaN</td>\n",
       "      <td>10002.5</td>\n",
       "      <td>0.0</td>\n",
       "    </tr>\n",
       "  </tbody>\n",
       "</table>\n",
       "</div>"
      ],
      "text/plain": [
       "   day  timestamp           product  bid_price_1  bid_volume_1  bid_price_2  \\\n",
       "0   -2          0  RAINFOREST_RESIN         9996             1       9995.0   \n",
       "1   -2          0              KELP         1998            26          NaN   \n",
       "2   -2          0         SQUID_INK         1998            26          NaN   \n",
       "3   -2        100         SQUID_INK         1999             5       1998.0   \n",
       "4   -2        100  RAINFOREST_RESIN        10000             5       9995.0   \n",
       "\n",
       "   bid_volume_2  bid_price_3  bid_volume_3  ask_price_1  ask_volume_1  \\\n",
       "0          25.0          NaN           NaN        10004             1   \n",
       "1           NaN          NaN           NaN         2002            26   \n",
       "2           NaN          NaN           NaN         2002            26   \n",
       "3          26.0          NaN           NaN         2001            20   \n",
       "4          20.0          NaN           NaN        10005            20   \n",
       "\n",
       "   ask_price_2  ask_volume_2  ask_price_3  ask_volume_3  mid_price  \\\n",
       "0      10005.0          25.0          NaN           NaN    10000.0   \n",
       "1          NaN           NaN          NaN           NaN     2000.0   \n",
       "2          NaN           NaN          NaN           NaN     2000.0   \n",
       "3          NaN           NaN          NaN           NaN     2000.0   \n",
       "4          NaN           NaN          NaN           NaN    10002.5   \n",
       "\n",
       "   profit_and_loss  \n",
       "0              0.0  \n",
       "1              0.0  \n",
       "2              0.0  \n",
       "3              0.0  \n",
       "4              0.0  "
      ]
     },
     "execution_count": 3,
     "metadata": {},
     "output_type": "execute_result"
    }
   ],
   "source": [
    "df1.head()"
   ]
  },
  {
   "cell_type": "code",
   "execution_count": 4,
   "id": "5d8819ca",
   "metadata": {},
   "outputs": [
    {
     "data": {
      "text/plain": [
       "PearsonRResult(statistic=0.281493726751658, pvalue=1.6714671204930065e-181)"
      ]
     },
     "execution_count": 4,
     "metadata": {},
     "output_type": "execute_result"
    }
   ],
   "source": [
    "from scipy.stats import pearsonr\n",
    "\n",
    "kelp1 = df1[df1['product'] == 'KELP']\n",
    "resin1 = df1[df1['product'] == 'RAINFOREST_RESIN']\n",
    "squidink1 = df1[df1['product'] == 'SQUID_INK']\n",
    "\n",
    "pearsonr(kelp1['mid_price'], squidink1['mid_price'])"
   ]
  },
  {
   "cell_type": "code",
   "execution_count": 5,
   "id": "a8dbd138",
   "metadata": {},
   "outputs": [
    {
     "data": {
      "text/plain": [
       "PearsonRResult(statistic=0.15087897074179518, pvalue=5.342644458959605e-52)"
      ]
     },
     "execution_count": 5,
     "metadata": {},
     "output_type": "execute_result"
    }
   ],
   "source": [
    "kelp2 = df2[df2['product'] == 'KELP']\n",
    "resin2 = df2[df2['product'] == 'RAINFOREST_RESIN']\n",
    "squidink2 = df2[df2['product'] == 'SQUID_INK']\n",
    "\n",
    "pearsonr(kelp2['mid_price'], squidink2['mid_price'])"
   ]
  },
  {
   "cell_type": "code",
   "execution_count": 6,
   "id": "7f3bc032",
   "metadata": {},
   "outputs": [
    {
     "data": {
      "text/plain": [
       "PearsonRResult(statistic=0.15087897074179518, pvalue=5.342644458959605e-52)"
      ]
     },
     "execution_count": 6,
     "metadata": {},
     "output_type": "execute_result"
    }
   ],
   "source": [
    "kelp3 = df3[df3['product'] == 'KELP']\n",
    "resin3 = df3[df3['product'] == 'RAINFOREST_RESIN']\n",
    "squidink3 = df3[df3['product'] == 'SQUID_INK']\n",
    "\n",
    "pearsonr(kelp2['mid_price'], squidink2['mid_price'])"
   ]
  },
  {
   "cell_type": "code",
   "execution_count": 10,
   "id": "615cf186",
   "metadata": {},
   "outputs": [
    {
     "data": {
      "text/plain": [
       "PearsonRResult(statistic=0.16018507249327807, pvalue=6.728915408824516e-58)"
      ]
     },
     "execution_count": 10,
     "metadata": {},
     "output_type": "execute_result"
    }
   ],
   "source": [
    "kelp1_pct = kelp1['mid_price'].pct_change(100)[100:]\n",
    "squidink1_pct = squidink1['mid_price'].pct_change(100)[100:]\n",
    "\n",
    "pearsonr(kelp1_pct, squidink1_pct)"
   ]
  },
  {
   "cell_type": "code",
   "execution_count": 20,
   "id": "21e4d6ff",
   "metadata": {},
   "outputs": [
    {
     "data": {
      "text/plain": [
       "1.4965920476507861"
      ]
     },
     "execution_count": 20,
     "metadata": {},
     "output_type": "execute_result"
    }
   ],
   "source": [
    "resin_mid_prices = pd.concat([resin1['mid_price'], resin2['mid_price'], resin3['mid_price']])\n",
    "resin_mid_prices.std()"
   ]
  },
  {
   "cell_type": "code",
   "execution_count": 21,
   "id": "f17bee8f",
   "metadata": {},
   "outputs": [
    {
     "data": {
      "text/plain": [
       "10.898110928487874"
      ]
     },
     "execution_count": 21,
     "metadata": {},
     "output_type": "execute_result"
    }
   ],
   "source": [
    "kelp_mid_prices = pd.concat([kelp1['mid_price'], kelp2['mid_price'], kelp3['mid_price']])\n",
    "kelp_mid_prices.std()"
   ]
  },
  {
   "cell_type": "code",
   "execution_count": 22,
   "id": "9c0d0eda",
   "metadata": {},
   "outputs": [
    {
     "data": {
      "text/plain": [
       "67.89620365941882"
      ]
     },
     "execution_count": 22,
     "metadata": {},
     "output_type": "execute_result"
    }
   ],
   "source": [
    "squidink_mid_prices = pd.concat([squidink1['mid_price'], squidink2['mid_price'], squidink3['mid_price']])\n",
    "squidink_mid_prices.std()"
   ]
  },
  {
   "cell_type": "code",
   "execution_count": null,
   "id": "a56d2f92",
   "metadata": {},
   "outputs": [],
   "source": []
  }
 ],
 "metadata": {
  "kernelspec": {
   "display_name": "Python 3 (ipykernel)",
   "language": "python",
   "name": "python3"
  },
  "language_info": {
   "codemirror_mode": {
    "name": "ipython",
    "version": 3
   },
   "file_extension": ".py",
   "mimetype": "text/x-python",
   "name": "python",
   "nbconvert_exporter": "python",
   "pygments_lexer": "ipython3",
   "version": "3.11.4"
  }
 },
 "nbformat": 4,
 "nbformat_minor": 5
}
